{
 "cells": [
  {
   "cell_type": "code",
   "execution_count": 1,
   "metadata": {},
   "outputs": [],
   "source": [
    "import pandas as pd\n",
    "import os"
   ]
  },
  {
   "cell_type": "code",
   "execution_count": 8,
   "metadata": {},
   "outputs": [],
   "source": [
    "def copiar_imagenes(lista_imagenes, carpeta_origen, carpeta_destino):\n",
    "    for imagen in lista_imagenes:\n",
    "        os.system(f\"cp {carpeta_origen}/{imagen} {carpeta_destino}\")"
   ]
  },
  {
   "cell_type": "code",
   "execution_count": 4,
   "metadata": {},
   "outputs": [],
   "source": [
    "df_entrenamiento_ = pd.read_csv('../../datasets/covid/usable/train/train.csv')\n",
    "df_prueba = pd.read_csv('../../datasets/covid/usable/test/test.csv')"
   ]
  },
  {
   "cell_type": "code",
   "execution_count": 6,
   "metadata": {},
   "outputs": [
    {
     "name": "stdout",
     "output_type": "stream",
     "text": [
      "['sub-S28038_ses-E60295_run-1_bp-chest_vp-ap_dx-corrected.jpg', 'sub-S328265_ses-E56823_run-1_bp-chest_vp-pa_dx-corrected.jpg', 'b4686a9f-c3a6-4cba-9400-b35ba566b74e.jpg']\n",
      "['sub-S09467_ses-E20862_run-1_bp-chest_vp-ap_cr-corrected.jpg', 'sub-S04367_ses-E08686_run-2_bp-chest_cr-corrected.jpg', 'sub-S09507_ses-E25380_run-1_bp-chest_vp-ap_dx-corrected.jpg']\n"
     ]
    }
   ],
   "source": [
    "lista_imagen_entrenamiento = df_entrenamiento_['filename'].tolist()\n",
    "lista_imagen_prueba = df_prueba['filename'].tolist()\n",
    "print(lista_imagen_entrenamiento[:3])\n",
    "print(lista_imagen_prueba[:3])"
   ]
  },
  {
   "cell_type": "code",
   "execution_count": 9,
   "metadata": {},
   "outputs": [],
   "source": [
    "copiar_imagenes(lista_imagen_entrenamiento, '../../datasets/covid/recortes_cnn/train_pulmones/', '../../datasets/covid/usable/train/radiografias/')"
   ]
  },
  {
   "cell_type": "code",
   "execution_count": 10,
   "metadata": {},
   "outputs": [],
   "source": [
    "copiar_imagenes(lista_imagen_prueba, '../../datasets/covid/recortes_cnn/test_pulmones/', '../../datasets/covid/usable/test/radiografias/')"
   ]
  }
 ],
 "metadata": {
  "kernelspec": {
   "display_name": "s25",
   "language": "python",
   "name": "python3"
  },
  "language_info": {
   "codemirror_mode": {
    "name": "ipython",
    "version": 3
   },
   "file_extension": ".py",
   "mimetype": "text/x-python",
   "name": "python",
   "nbconvert_exporter": "python",
   "pygments_lexer": "ipython3",
   "version": "3.10.15"
  }
 },
 "nbformat": 4,
 "nbformat_minor": 2
}
