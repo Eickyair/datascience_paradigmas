{
 "cells": [
  {
   "cell_type": "code",
   "execution_count": 144,
   "metadata": {},
   "outputs": [
    {
     "data": {
      "text/html": [
       "<div>\n",
       "<style scoped>\n",
       "    .dataframe tbody tr th:only-of-type {\n",
       "        vertical-align: middle;\n",
       "    }\n",
       "\n",
       "    .dataframe tbody tr th {\n",
       "        vertical-align: top;\n",
       "    }\n",
       "\n",
       "    .dataframe thead th {\n",
       "        text-align: right;\n",
       "    }\n",
       "</style>\n",
       "<table border=\"1\" class=\"dataframe\">\n",
       "  <thead>\n",
       "    <tr style=\"text-align: right;\">\n",
       "      <th></th>\n",
       "      <th>class</th>\n",
       "      <th>patient_id</th>\n",
       "      <th>filename</th>\n",
       "      <th>class_num</th>\n",
       "    </tr>\n",
       "  </thead>\n",
       "  <tbody>\n",
       "    <tr>\n",
       "      <th>0</th>\n",
       "      <td>negative</td>\n",
       "      <td>379</td>\n",
       "      <td>1e64990d1b40c1758a2aaa9c7f7a85_jumbo.jpg</td>\n",
       "      <td>0</td>\n",
       "    </tr>\n",
       "    <tr>\n",
       "      <th>1</th>\n",
       "      <td>negative</td>\n",
       "      <td>379</td>\n",
       "      <td>7223b8ad031187d9a142d7f7ca02c9_jumbo.jpg</td>\n",
       "      <td>0</td>\n",
       "    </tr>\n",
       "    <tr>\n",
       "      <th>2</th>\n",
       "      <td>negative</td>\n",
       "      <td>380</td>\n",
       "      <td>3392dc7d262e28423caca517f98c2e_jumbo.jpg</td>\n",
       "      <td>0</td>\n",
       "    </tr>\n",
       "    <tr>\n",
       "      <th>3</th>\n",
       "      <td>negative</td>\n",
       "      <td>380</td>\n",
       "      <td>ec3a480c0926ded74429df416cfb05_jumbo.jpg</td>\n",
       "      <td>0</td>\n",
       "    </tr>\n",
       "    <tr>\n",
       "      <th>4</th>\n",
       "      <td>negative</td>\n",
       "      <td>382</td>\n",
       "      <td>a72aeb349a63c79ed24e473c434efe_jumbo.jpg</td>\n",
       "      <td>0</td>\n",
       "    </tr>\n",
       "  </tbody>\n",
       "</table>\n",
       "</div>"
      ],
      "text/plain": [
       "      class patient_id                                  filename  class_num\n",
       "0  negative        379  1e64990d1b40c1758a2aaa9c7f7a85_jumbo.jpg          0\n",
       "1  negative        379  7223b8ad031187d9a142d7f7ca02c9_jumbo.jpg          0\n",
       "2  negative        380  3392dc7d262e28423caca517f98c2e_jumbo.jpg          0\n",
       "3  negative        380  ec3a480c0926ded74429df416cfb05_jumbo.jpg          0\n",
       "4  negative        382  a72aeb349a63c79ed24e473c434efe_jumbo.jpg          0"
      ]
     },
     "execution_count": 144,
     "metadata": {},
     "output_type": "execute_result"
    }
   ],
   "source": [
    "import pandas as pd\n",
    "from IPython.display import display\n",
    "from PIL import Image\n",
    "df_train_ = pd.read_csv('../../datasets/covid/escala_grises/train.csv')\n",
    "df_test_ = pd.read_csv('../../datasets/covid/escala_grises/test.csv')\n",
    "df_train_['class_num'] = df_train_['class'].apply(lambda x: 1 if x == 'positive' else 0)\n",
    "df_test_['class_num'] = df_test_['class'].apply(lambda x: 1 if x == 'positive' else 0)\n",
    "df_train_.head()"
   ]
  },
  {
   "cell_type": "code",
   "execution_count": 145,
   "metadata": {},
   "outputs": [
    {
     "data": {
      "text/plain": [
       "class\n",
       "positive    57199\n",
       "negative    10664\n",
       "Name: count, dtype: int64"
      ]
     },
     "execution_count": 145,
     "metadata": {},
     "output_type": "execute_result"
    }
   ],
   "source": [
    "df_train_['class'].value_counts()"
   ]
  },
  {
   "cell_type": "code",
   "execution_count": 146,
   "metadata": {},
   "outputs": [],
   "source": [
    "def splitDataFrames(df_train,df_test,n_train,n_test,random_state=42,proporcion_positiva=0.1,label_col='class_num'):\n",
    "    # Dividir los dataframes en train y test\n",
    "    n_positivos = int(n_train*proporcion_positiva)\n",
    "    n_negativos = n_train-n_positivos\n",
    "    df_train_positivo = df_train[df_train[label_col]==1]\n",
    "    df_train_negativo = df_train[df_train[label_col]==0]\n",
    "    df_test_positivo = df_test[df_test[label_col]==1]\n",
    "    df_test_negativo = df_test[df_test[label_col]==0]\n",
    "    # Dividir los dataframes en train y test\n",
    "    df_train_positivo = df_train_positivo.sample(n=n_positivos,random_state=random_state)\n",
    "    df_train_negativo = df_train_negativo.sample(n=n_negativos,random_state=random_state)\n",
    "    n_positivos = int(n_test*proporcion_positiva)\n",
    "    n_negativos = n_test-n_positivos\n",
    "    df_test_positivo = df_test_positivo.sample(n=n_positivos,random_state=random_state)\n",
    "    df_test_negativo = df_test_negativo.sample(n=n_negativos,random_state=random_state)\n",
    "    # Concatenar los dataframes\n",
    "    df_train = pd.concat([df_train_positivo,df_train_negativo],ignore_index=True)\n",
    "    df_test = pd.concat([df_test_positivo,df_test_negativo],ignore_index=True)\n",
    "    return df_train,df_test"
   ]
  },
  {
   "cell_type": "code",
   "execution_count": 147,
   "metadata": {},
   "outputs": [
    {
     "name": "stdout",
     "output_type": "stream",
     "text": [
      "class\n",
      "positive    250\n",
      "negative    250\n",
      "Name: count, dtype: int64\n"
     ]
    }
   ],
   "source": [
    "# 400 Imagenes de entrenamiento con 50% de positivos y 50% de negativos\n",
    "# 100 Imagenes de test con 50% de positivos y 50% de negativos\n",
    "df_train, _ = splitDataFrames(df_train_,df_test_,n_train=500,n_test=1,random_state=0,proporcion_positiva=0.5,label_col='class_num')\n",
    "print(df_train['class'].value_counts())"
   ]
  },
  {
   "cell_type": "markdown",
   "metadata": {},
   "source": [
    "# Distribución de Images\n",
    "\n",
    "|Persona|Cantidad|\n",
    "|-|-|\n",
    "|200|Imanol|\n",
    "|200|Magno|\n",
    "|100|Erick|"
   ]
  },
  {
   "cell_type": "code",
   "execution_count": 148,
   "metadata": {},
   "outputs": [],
   "source": [
    "import os\n",
    "import shutil\n",
    "def copiarImagenes(imagenes, folder_origen, folder_destino):\n",
    "    rutas_destino = []\n",
    "    for imagen in imagenes:\n",
    "        ruta_origen = os.path.join(folder_origen, imagen)\n",
    "        ruta_destino = os.path.join(folder_destino, imagen)\n",
    "        shutil.copy(ruta_origen, ruta_destino)\n",
    "        rutas_destino.append(ruta_destino)\n",
    "    return rutas_destino"
   ]
  },
  {
   "cell_type": "code",
   "execution_count": 149,
   "metadata": {},
   "outputs": [
    {
     "data": {
      "text/html": [
       "<div>\n",
       "<style scoped>\n",
       "    .dataframe tbody tr th:only-of-type {\n",
       "        vertical-align: middle;\n",
       "    }\n",
       "\n",
       "    .dataframe tbody tr th {\n",
       "        vertical-align: top;\n",
       "    }\n",
       "\n",
       "    .dataframe thead th {\n",
       "        text-align: right;\n",
       "    }\n",
       "</style>\n",
       "<table border=\"1\" class=\"dataframe\">\n",
       "  <thead>\n",
       "    <tr style=\"text-align: right;\">\n",
       "      <th></th>\n",
       "      <th>class</th>\n",
       "      <th>patient_id</th>\n",
       "      <th>filename</th>\n",
       "      <th>class_num</th>\n",
       "      <th>folder</th>\n",
       "    </tr>\n",
       "  </thead>\n",
       "  <tbody>\n",
       "    <tr>\n",
       "      <th>0</th>\n",
       "      <td>positive</td>\n",
       "      <td>S314259</td>\n",
       "      <td>sub-S314259_ses-E30604_run-1_bp-chest_vp-ap_dx...</td>\n",
       "      <td>1</td>\n",
       "      <td>magno/img</td>\n",
       "    </tr>\n",
       "    <tr>\n",
       "      <th>1</th>\n",
       "      <td>positive</td>\n",
       "      <td>S319789</td>\n",
       "      <td>sub-S319789_ses-E40738_run-1_bp-chest_vp-pa_dx...</td>\n",
       "      <td>1</td>\n",
       "      <td>magno/img</td>\n",
       "    </tr>\n",
       "    <tr>\n",
       "      <th>2</th>\n",
       "      <td>positive</td>\n",
       "      <td>S309894</td>\n",
       "      <td>sub-S309894_ses-E37950_run-1_bp-chest_vp-ap_dx...</td>\n",
       "      <td>1</td>\n",
       "      <td>magno/img</td>\n",
       "    </tr>\n",
       "    <tr>\n",
       "      <th>3</th>\n",
       "      <td>positive</td>\n",
       "      <td>A236763</td>\n",
       "      <td>A236763-02-23-1901-NA-CHEST_AP_PORT-32482-3.00...</td>\n",
       "      <td>1</td>\n",
       "      <td>magno/img</td>\n",
       "    </tr>\n",
       "    <tr>\n",
       "      <th>4</th>\n",
       "      <td>positive</td>\n",
       "      <td>S322790</td>\n",
       "      <td>sub-S322790_ses-E46033_run-1_bp-chest_vp-ap_cr...</td>\n",
       "      <td>1</td>\n",
       "      <td>magno/img</td>\n",
       "    </tr>\n",
       "  </tbody>\n",
       "</table>\n",
       "</div>"
      ],
      "text/plain": [
       "      class patient_id                                           filename  \\\n",
       "0  positive    S314259  sub-S314259_ses-E30604_run-1_bp-chest_vp-ap_dx...   \n",
       "1  positive    S319789  sub-S319789_ses-E40738_run-1_bp-chest_vp-pa_dx...   \n",
       "2  positive    S309894  sub-S309894_ses-E37950_run-1_bp-chest_vp-ap_dx...   \n",
       "3  positive    A236763  A236763-02-23-1901-NA-CHEST_AP_PORT-32482-3.00...   \n",
       "4  positive    S322790  sub-S322790_ses-E46033_run-1_bp-chest_vp-ap_cr...   \n",
       "\n",
       "   class_num     folder  \n",
       "0          1  magno/img  \n",
       "1          1  magno/img  \n",
       "2          1  magno/img  \n",
       "3          1  magno/img  \n",
       "4          1  magno/img  "
      ]
     },
     "execution_count": 149,
     "metadata": {},
     "output_type": "execute_result"
    }
   ],
   "source": [
    "df_magno = df_train.iloc[:200]\n",
    "df_imanol = df_train.iloc[200:400]\n",
    "df_erick = df_train.iloc[400:500]\n",
    "imganes_magno = set(df_magno['filename'])\n",
    "imganes_imanol = set(df_imanol['filename'])\n",
    "imagenes_erick = set(df_erick['filename'])\n",
    "imagenes_set = set(df_train['filename'])\n",
    "if len(imganes_magno.intersection(imganes_imanol)) != 0:\n",
    "    raise Exception('Hay imagenes en comun entre los dos dataframes')\n",
    "if len(imganes_magno.intersection(imagenes_set)) != 200:\n",
    "    raise Exception('No se incluyeron las 200 imagenes de magno')\n",
    "if len(imganes_imanol.intersection(imagenes_set)) != 200:\n",
    "    raise Exception('No se incluyeron las 200 imagenes de imanol')\n",
    "r = []\n",
    "r+= copiarImagenes(list(imganes_magno)[:],'../../datasets/covid/escala_grises/train','../../datasets/covid/escala_grises/proceso_etiquetas/etiquetas/magno/img')\n",
    "r+= copiarImagenes(list(imganes_imanol)[:],'../../datasets/covid/escala_grises/train','../../datasets/covid/escala_grises/proceso_etiquetas/etiquetas/imanol/img')\n",
    "r+= copiarImagenes(list(imagenes_erick)[:],'../../datasets/covid/escala_grises/train','../../datasets/covid/escala_grises/proceso_etiquetas/etiquetas/erick/img')\n",
    "df_train['folder'] = ['magno/img']*200+['imanol/img']*200+['erick/img']*100\n",
    "df_train.head()"
   ]
  },
  {
   "cell_type": "code",
   "execution_count": 150,
   "metadata": {},
   "outputs": [],
   "source": [
    "df_train.to_csv('../../datasets/covid/escala_grises/proceso_etiquetas/etiquetas/etiquetas.csv',index=False)"
   ]
  },
  {
   "cell_type": "code",
   "execution_count": null,
   "metadata": {},
   "outputs": [],
   "source": []
  }
 ],
 "metadata": {
  "kernelspec": {
   "display_name": "base",
   "language": "python",
   "name": "python3"
  },
  "language_info": {
   "codemirror_mode": {
    "name": "ipython",
    "version": 3
   },
   "file_extension": ".py",
   "mimetype": "text/x-python",
   "name": "python",
   "nbconvert_exporter": "python",
   "pygments_lexer": "ipython3",
   "version": "3.12.3"
  }
 },
 "nbformat": 4,
 "nbformat_minor": 2
}
